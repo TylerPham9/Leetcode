{
 "cells": [
  {
   "cell_type": "code",
   "execution_count": 27,
   "metadata": {},
   "outputs": [],
   "source": [
    "class Solution:\n",
    "    def maxIncreaseKeepingSkyline(self, grid: 'List[List[int]]') -> 'int':\n",
    "        \n",
    "        topOrBottom = []\n",
    "        \n",
    "        listLen = len(grid)\n",
    "        rowLen = len(grid[0])\n",
    "        for i in range(rowLen):\n",
    "            temp = []\n",
    "            for j in range(listLen):\n",
    "                temp.append(grid[j][i])\n",
    "            topOrBottom.append(max(temp))\n",
    "        \n",
    "        \n",
    "        leftOrRight = []\n",
    "        for row in grid:\n",
    "            leftOrRight.append(max(row))\n",
    "        \n",
    "#         print(\"The skyline viewed from top or bottom is: \" + str(topOrBottom))        \n",
    "#         print(\"The skyline viewed from left or right is: \" + str(leftOrRight))\n",
    "        \n",
    "        \n",
    "        increases = 0\n",
    "        for i, row in enumerate(grid):\n",
    "            for j, height in enumerate(row):\n",
    "                increases += min(leftOrRight[i], topOrBottom[j]) - height\n",
    "\n",
    "        return increases\n",
    "        "
   ]
  },
  {
   "cell_type": "code",
   "execution_count": 28,
   "metadata": {},
   "outputs": [
    {
     "name": "stdout",
     "output_type": "stream",
     "text": [
      "The skyline viewed from top or bottom is: [9, 4, 8, 7]\n",
      "The skyline viewed from left or right is: [8, 7, 9, 3]\n"
     ]
    },
    {
     "data": {
      "text/plain": [
       "35"
      ]
     },
     "execution_count": 28,
     "metadata": {},
     "output_type": "execute_result"
    }
   ],
   "source": [
    "s = Solution()\n",
    "grid = [[3,0,8,4],[2,4,5,7],[9,2,6,3],[0,3,1,0]]\n",
    "s.maxIncreaseKeepingSkyline(grid)"
   ]
  },
  {
   "cell_type": "code",
   "execution_count": null,
   "metadata": {},
   "outputs": [],
   "source": []
  }
 ],
 "metadata": {
  "kernelspec": {
   "display_name": "Python 3",
   "language": "python",
   "name": "python3"
  },
  "language_info": {
   "codemirror_mode": {
    "name": "ipython",
    "version": 3
   },
   "file_extension": ".py",
   "mimetype": "text/x-python",
   "name": "python",
   "nbconvert_exporter": "python",
   "pygments_lexer": "ipython3",
   "version": "3.6.4"
  }
 },
 "nbformat": 4,
 "nbformat_minor": 2
}
